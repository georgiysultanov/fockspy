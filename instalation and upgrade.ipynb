{
 "cells": [
  {
   "cell_type": "markdown",
   "id": "75afed1c",
   "metadata": {},
   "source": [
    "#### instalation"
   ]
  },
  {
   "cell_type": "code",
   "execution_count": null,
   "id": "89c3deb5",
   "metadata": {},
   "outputs": [],
   "source": [
    "!pip install fockspy"
   ]
  },
  {
   "cell_type": "markdown",
   "id": "d78ee130",
   "metadata": {},
   "source": [
    "#### Upgrade"
   ]
  },
  {
   "cell_type": "code",
   "execution_count": null,
   "id": "9e6d7573",
   "metadata": {},
   "outputs": [],
   "source": [
    "!pip install fockspy --upgrade pip"
   ]
  }
 ],
 "metadata": {
  "kernelspec": {
   "display_name": "Python 3 (ipykernel)",
   "language": "python",
   "name": "python3"
  },
  "language_info": {
   "codemirror_mode": {
    "name": "ipython",
    "version": 3
   },
   "file_extension": ".py",
   "mimetype": "text/x-python",
   "name": "python",
   "nbconvert_exporter": "python",
   "pygments_lexer": "ipython3",
   "version": "3.8.5"
  }
 },
 "nbformat": 4,
 "nbformat_minor": 5
}
