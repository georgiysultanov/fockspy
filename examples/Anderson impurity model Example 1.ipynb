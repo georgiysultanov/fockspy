{
 "cells": [
  {
   "cell_type": "code",
   "execution_count": 2,
   "id": "3df3a17a",
   "metadata": {},
   "outputs": [],
   "source": [
    "%matplotlib inline\n",
    "\n",
    "import fockspy\n",
    "from fockspy import fock_classes as fc\n",
    "\n",
    "\n",
    "import matplotlib.pyplot as plt\n",
    "import numpy as np\n",
    "from numpy import linalg as LA\n",
    "from scipy import sparse\n",
    "from scipy.sparse import coo_matrix\n",
    "from scipy.sparse import coo_array\n",
    "from scipy.sparse import identity\n",
    "from scipy.sparse import diags"
   ]
  },
  {
   "cell_type": "markdown",
   "id": "e4bf7216",
   "metadata": {},
   "source": [
    "### Fock spaces initialization "
   ]
  },
  {
   "cell_type": "code",
   "execution_count": 3,
   "id": "55e7e498",
   "metadata": {},
   "outputs": [],
   "source": [
    "m_c = 7\n",
    "f = fc.fock_space(2*(1+m_c),14, statistics = 'Fermi')"
   ]
  },
  {
   "cell_type": "markdown",
   "id": "1a694188",
   "metadata": {},
   "source": [
    "### Problem parameters"
   ]
  },
  {
   "cell_type": "code",
   "execution_count": 7,
   "id": "4fa55781",
   "metadata": {},
   "outputs": [],
   "source": [
    "K = f.dimension\n",
    "m = f.modes\n",
    "\n",
    "Eps_c = np.ones(m_c)\n",
    "h = np.ones(m_c)\n",
    "Eps_d = 1\n",
    "V = np.ones(m_c)\n",
    "U = 0.1\n",
    "\n",
    "d_down = f.annihilate[0]\n",
    "d_dag_down = f.create[0]\n",
    "d_upp = f.annihilate[m_c+1]\n",
    "d_dag_upp = f.create[m_c+1]\n",
    "\n",
    "c_down = f.annihilate[1:m_c+1]\n",
    "c_dag_down = f.create[1:m_c+1]\n",
    "c_upp = f.annihilate[m_c+2:]\n",
    "c_dag_upp = f.create[m_c+2:]\n",
    "\n",
    "\n",
    "psi0 = np.zeros(K, dtype = complex)\n",
    "j1 = 0\n",
    "psi0[j1]=1\n",
    "\n",
    "\n",
    "dt = 0.01\n",
    "tmax = 100\n"
   ]
  },
  {
   "cell_type": "markdown",
   "id": "d69b1923",
   "metadata": {},
   "source": [
    "### Hamiltonian building"
   ]
  },
  {
   "cell_type": "markdown",
   "id": "c6c47107",
   "metadata": {},
   "source": [
    "#### $ H = \\sum\\limits_{i, \\sigma } (\\varepsilon_{i\\sigma}  c^{+}_{i\\sigma} c_{i\\sigma} + h_{i} c^{+}_{i\\sigma} c_{(i-1) \\sigma} + h_{i} c^{+}_{i\\sigma} c_{(i-1) \\sigma}) + \\sum\\limits_{\\sigma} \\varepsilon_{d} d^{+}_{\\sigma} d_{\\sigma} + U d^{+}_{↑} d_{↑} d^{+}_{↓} d_{↓} + \\sum\\limits_{k, \\sigma }  V_{k}(d^{+}_{\\sigma}c_{k\\sigma} + c^{+}_{k\\sigma}d_{\\sigma}) $"
   ]
  },
  {
   "cell_type": "code",
   "execution_count": 9,
   "id": "b948dae6",
   "metadata": {},
   "outputs": [],
   "source": [
    "H = f.emptyH\n",
    "for i in range(1,m_c):\n",
    "    H += Eps_c[i]*c_dag_down[i]@c_down[i] + h[i]*c_dag_down[i]@c_down[i-1] + h[i]*c_down[i]@c_dag_down[i-1]\n",
    "    H += Eps_c[i]*c_dag_upp[i]@c_upp[i] + h[i]*c_dag_upp[i]@c_upp[i-1] + h[i]*c_upp[i]@c_dag_upp[i-1]\n",
    "H += Eps_d * d_dag_down@d_down + Eps_d * d_dag_upp@d_upp\n",
    "H += U*d_dag_upp@d_upp@d_dag_down@d_down\n",
    "for k in range(0,m_c):\n",
    "    H += V[k]*(d_dag_down@c_down[k] + c_dag_down[k]@d_down)\n",
    "    H += V[k]*(d_dag_upp@c_down[k] + c_dag_upp[k]@d_down)\n",
    "    \n",
    "    "
   ]
  },
  {
   "cell_type": "code",
   "execution_count": 15,
   "id": "f5535b34",
   "metadata": {},
   "outputs": [
    {
     "data": {
      "text/plain": [
       "<65519x65519 sparse matrix of type '<class 'numpy.complex128'>'\n",
       "\twith 917263 stored elements in Compressed Sparse Row format>"
      ]
     },
     "execution_count": 15,
     "metadata": {},
     "output_type": "execute_result"
    }
   ],
   "source": [
    "H"
   ]
  }
 ],
 "metadata": {
  "kernelspec": {
   "display_name": "Python 3 (ipykernel)",
   "language": "python",
   "name": "python3"
  },
  "language_info": {
   "codemirror_mode": {
    "name": "ipython",
    "version": 3
   },
   "file_extension": ".py",
   "mimetype": "text/x-python",
   "name": "python",
   "nbconvert_exporter": "python",
   "pygments_lexer": "ipython3",
   "version": "3.8.5"
  }
 },
 "nbformat": 4,
 "nbformat_minor": 5
}
